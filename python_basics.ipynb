{
  "cells": [
    {
      "cell_type": "markdown",
      "metadata": {
        "id": "t-ud2fqfc-wG"
      },
      "source": [
        "***class5***"
      ]
    },
    {
      "cell_type": "code",
      "execution_count": null,
      "metadata": {
        "colab": {
          "background_save": true
        },
        "id": "YZBHkf2hd3M4"
      },
      "outputs": [],
      "source": [
        "# Files\n",
        "# Read mode\n",
        "# Write mode\n",
        "# Append mode"
      ]
    },
    {
      "cell_type": "code",
      "execution_count": null,
      "metadata": {
        "colab": {
          "base_uri": "https://localhost:8080/"
        },
        "id": "nSXzJ8bmd5cQ",
        "outputId": "3a20ae40-6e72-4322-ffb5-991cd3a7fd00"
      },
      "outputs": [
        {
          "output_type": "stream",
          "name": "stdout",
          "text": [
            "\n"
          ]
        }
      ],
      "source": [
        "file = open('a.txt','r')\n",
        "print(file.read())"
      ]
    },
    {
      "cell_type": "code",
      "execution_count": null,
      "metadata": {
        "colab": {
          "background_save": true
        },
        "id": "uv2tMjX6eZH3"
      },
      "outputs": [],
      "source": [
        "file.close()"
      ]
    },
    {
      "cell_type": "code",
      "execution_count": null,
      "metadata": {
        "colab": {
          "base_uri": "https://localhost:8080/"
        },
        "id": "WvotYxTBeeJd",
        "outputId": "6f2af0a5-ffe2-4271-e3ff-99d6f9682d0f"
      },
      "outputs": [
        {
          "output_type": "stream",
          "name": "stdout",
          "text": [
            "this is written by me :)\n"
          ]
        }
      ],
      "source": [
        "file = open('b.txt','w')\n",
        "file.write('this is written by me :)')\n",
        "file.close()\n",
        "\n",
        "file = open('b.txt','r')\n",
        "print(file.read())\n",
        "file.close()"
      ]
    },
    {
      "cell_type": "code",
      "execution_count": null,
      "metadata": {
        "colab": {
          "base_uri": "https://localhost:8080/"
        },
        "id": "ta3dsi9RftHY",
        "outputId": "55aa4464-0fe3-44e3-a935-6574077fd564"
      },
      "outputs": [
        {
          "output_type": "stream",
          "name": "stdout",
          "text": [
            "this is written by me :)\n",
            "appending further text\n"
          ]
        }
      ],
      "source": [
        "file = open('b.txt','a')\n",
        "file.write('\\nappending further text')\n",
        "file.close()\n",
        "\n",
        "fileRead = open('b.txt','r')\n",
        "print(fileRead.read())"
      ]
    },
    {
      "cell_type": "code",
      "execution_count": null,
      "metadata": {
        "colab": {
          "background_save": true
        },
        "id": "oz9z7XoTh4in"
      },
      "outputs": [],
      "source": [
        "# using WITH keyword\n",
        "with open('b.txt','r') as file1 :\n",
        "  print(file1.read())"
      ]
    },
    {
      "cell_type": "code",
      "source": [
        "myLines = ['\\ndata \\n','details \\n','task \\n']\n",
        "\n",
        "with open('b.txt','a') as fileWrite:\n",
        "  fileWrite.writelines(myLines)\n",
        "\n",
        "fileWrite = open('b.txt','r')\n",
        "print(fileWrite.read())  "
      ],
      "metadata": {
        "colab": {
          "base_uri": "https://localhost:8080/"
        },
        "id": "pp_9TBoFjm9f",
        "outputId": "74711b1f-c141-4d4a-fceb-a57acaaea636"
      },
      "execution_count": null,
      "outputs": [
        {
          "output_type": "stream",
          "name": "stdout",
          "text": [
            "this is written by me :)\n",
            "appending further text\n",
            "\n",
            "data \n",
            "details \n",
            "task \n",
            "\n",
            "data \n",
            "details \n",
            "task \n",
            "\n",
            "data \n",
            "details \n",
            "task \n",
            "\n",
            "data \n",
            "details \n",
            "task \n",
            "\n",
            "data \n",
            "details \n",
            "task \n",
            "\n"
          ]
        }
      ]
    },
    {
      "cell_type": "markdown",
      "source": [
        "***class6***"
      ],
      "metadata": {
        "id": "xWqcMoiNnxhK"
      }
    },
    {
      "cell_type": "code",
      "source": [
        "def _a_(name,no):\n",
        "  print('Hello '+ name +'Your roll no is : ' , no)\n",
        "\n",
        "_a_('sinch',43)"
      ],
      "metadata": {
        "colab": {
          "base_uri": "https://localhost:8080/"
        },
        "id": "SHpPnYGmn1us",
        "outputId": "0ea9963e-fc0b-4911-d3f2-dc39982ad24f"
      },
      "execution_count": null,
      "outputs": [
        {
          "output_type": "stream",
          "name": "stdout",
          "text": [
            "Hello sinchYour roll no is :  43\n"
          ]
        }
      ]
    },
    {
      "cell_type": "code",
      "source": [
        "# Advanced argument passing\n",
        "# Positional Arguments\n",
        "def arg(name,city,batch):\n",
        "  print('my name is : '+ name + ' from -->', city , 'belongs to the MARCH batch', batch)\n",
        "\n",
        "arg('sinch','dvg',2023) \n"
      ],
      "metadata": {
        "colab": {
          "base_uri": "https://localhost:8080/"
        },
        "id": "vbw97yteo5aW",
        "outputId": "c064d117-977b-4229-ccaa-35f7347a6751"
      },
      "execution_count": null,
      "outputs": [
        {
          "output_type": "stream",
          "name": "stdout",
          "text": [
            "my name is : sinch from --> dvg belongs to the MARCH batch 2023\n"
          ]
        }
      ]
    },
    {
      "cell_type": "code",
      "source": [
        "# Keyword Arguments\n",
        "def arg(name,city,batch):\n",
        "  print('my name is : '+ name + ' ,from -->', city , ', belongs to the MARCH batch', batch)\n",
        "  print(type(name))\n",
        "\n",
        "arg(name = 'sinch', city = 'dvg', batch = 2023)\n",
        "\n",
        "arg(name = 'sinch', batch = 2023, city = 'dvg')\n"
      ],
      "metadata": {
        "colab": {
          "base_uri": "https://localhost:8080/"
        },
        "id": "Ai5PiuLrp_Fl",
        "outputId": "0770f7b8-ad6f-42dc-a256-ce745bf8d4e3"
      },
      "execution_count": null,
      "outputs": [
        {
          "output_type": "stream",
          "name": "stdout",
          "text": [
            "my name is : sinch ,from --> dvg , belongs to the MARCH batch 2023\n",
            "<class 'str'>\n",
            "my name is : sinch ,from --> dvg , belongs to the MARCH batch 2023\n",
            "<class 'str'>\n"
          ]
        }
      ]
    },
    {
      "cell_type": "code",
      "source": [
        "# Default Arguments\n",
        "def arg(name = 'Jerry',city = 'dvg',batch = 2023):\n",
        "  print('my name is : '+ name + ' ,from -->', city , ', belongs to the MARCH batch', batch)\n",
        "\n",
        "arg()\n",
        "arg('Tom')"
      ],
      "metadata": {
        "colab": {
          "base_uri": "https://localhost:8080/"
        },
        "id": "eDyO1UyDqmCs",
        "outputId": "6a665337-68b1-43fe-f07a-bff8a7543fcf"
      },
      "execution_count": null,
      "outputs": [
        {
          "output_type": "stream",
          "name": "stdout",
          "text": [
            "my name is : Jerry ,from --> dvg , belongs to the MARCH batch 2023\n",
            "my name is : Tom ,from --> dvg , belongs to the MARCH batch 2023\n"
          ]
        }
      ]
    },
    {
      "cell_type": "code",
      "source": [
        "# Default Arguments\n",
        "def arg(name = 'Jerry',city = 'dvg',batch = 2023):\n",
        "  print('my name is : '+ name + ' ,from -->', city , ', belongs to the MARCH batch', batch)\n",
        "\n",
        "arg(batch = 2024)\n",
        "arg(2020)"
      ],
      "metadata": {
        "id": "IDulr1E5c8L1"
      },
      "execution_count": null,
      "outputs": []
    },
    {
      "cell_type": "code",
      "source": [
        "# Slicing\n",
        "s = 'python course'\n",
        "print(s[0:2])\n",
        "print(s[0:6])\n",
        "print(s[:6])\n",
        "print(s[6:])\n",
        "\n",
        "print(s[-13:-7])\n",
        "print(s[-6:-13:-1])\n",
        "\n",
        "print(s[-6:])\n",
        "print(s[:-6])\n",
        "\n",
        "print(s[0::2])"
      ],
      "metadata": {
        "colab": {
          "base_uri": "https://localhost:8080/"
        },
        "id": "9u7g7kLGdjEr",
        "outputId": "ec570381-03b4-4b85-9fde-cb7ccfa9735f"
      },
      "execution_count": null,
      "outputs": [
        {
          "output_type": "stream",
          "name": "stdout",
          "text": [
            "py\n",
            "python\n",
            "python\n",
            " course\n",
            "python\n",
            "c nohty\n",
            "course\n",
            "python \n",
            "pto ore\n"
          ]
        }
      ]
    },
    {
      "cell_type": "code",
      "source": [],
      "metadata": {
        "id": "dzprSZkCv28a"
      },
      "execution_count": null,
      "outputs": []
    },
    {
      "cell_type": "markdown",
      "source": [
        "***CLASS7***  *`IMP`*"
      ],
      "metadata": {
        "id": "6aIUCywRwUQQ"
      }
    },
    {
      "cell_type": "code",
      "source": [
        "# N number of arguments ( *args --> when u don't know the exact number of arguments , we use *args )\n",
        "def details(Teacher,*args):      # when u don't know the arguments order of students --> which is first,second ... etc  ---->  use  -->  *variable\n",
        "  print('The teacher name is : ',Teacher)\n",
        "  for roll_no in args:\n",
        "    print('The student roll no is : ',roll_no)\n",
        "\n",
        "details('Santosh',43,44,45,'hi')"
      ],
      "metadata": {
        "colab": {
          "base_uri": "https://localhost:8080/"
        },
        "id": "e7vEW9gXwWeX",
        "outputId": "a2f1b1aa-d492-4bdf-e721-5ff814027d6a"
      },
      "execution_count": null,
      "outputs": [
        {
          "output_type": "stream",
          "name": "stdout",
          "text": [
            "The teacher name is :  Santosh\n",
            "The student roll no is :  43\n",
            "The student roll no is :  44\n",
            "The student roll no is :  45\n",
            "The student roll no is :  hi\n"
          ]
        }
      ]
    },
    {
      "cell_type": "code",
      "source": [
        "# To print in sorted order\n",
        "def details(Teacher,*args):      \n",
        "  print('The teacher name is : ',Teacher)\n",
        "  s_args = sorted(args)\n",
        "  for roll_no in s_args:\n",
        "    print('The student roll no is : ',roll_no)\n",
        "\n",
        "details('Santosh',43,44,45,12,7,3,2)"
      ],
      "metadata": {
        "colab": {
          "base_uri": "https://localhost:8080/"
        },
        "id": "mLdmquTEyNCw",
        "outputId": "b5b03144-0948-40ea-fed9-6661129d0bde"
      },
      "execution_count": null,
      "outputs": [
        {
          "output_type": "stream",
          "name": "stdout",
          "text": [
            "The teacher name is :  Santosh\n",
            "The student roll no is :  2\n",
            "The student roll no is :  3\n",
            "The student roll no is :  7\n",
            "The student roll no is :  12\n",
            "The student roll no is :  43\n",
            "The student roll no is :  44\n",
            "The student roll no is :  45\n"
          ]
        }
      ]
    },
    {
      "cell_type": "code",
      "source": [
        "# with keywords and arguments :\n",
        "def details(Teacher,*args,**kwargs):     # **kwargs  --->   keyword = argument\n",
        "  print('The teacher name is : ',Teacher)\n",
        "  for roll_no in args:\n",
        "    print('The student roll no is : ',roll_no)\n",
        "  for subject in kwargs:\n",
        "    print(subject ,kwargs[subject])  \n",
        "\n",
        "details('Santosh',43,44,45,'hi',python = 100, webdev = 500, datascience = 700, cpp = 650)"
      ],
      "metadata": {
        "colab": {
          "base_uri": "https://localhost:8080/"
        },
        "id": "Kyr_exYty8Ic",
        "outputId": "6a61c228-9e5d-4cf2-c335-0b631d57569a"
      },
      "execution_count": null,
      "outputs": [
        {
          "output_type": "stream",
          "name": "stdout",
          "text": [
            "The teacher name is :  Santosh\n",
            "The student roll no is :  43\n",
            "The student roll no is :  44\n",
            "The student roll no is :  45\n",
            "The student roll no is :  hi\n",
            "python 100\n",
            "webdev 500\n",
            "datascience 700\n",
            "cpp 650\n"
          ]
        }
      ]
    },
    {
      "cell_type": "code",
      "source": [
        "# Iterators --> an object that contains a countable number of values \n",
        "# Iter and next methods --> are 2 methods used in Iterators\n",
        "\n",
        "list1 = [1,2,3,4,5,6,7,8,9,10,11,12,13,14,15,16,17,18,19,20]\n",
        "print(list1[0])   # consumes space\n"
      ],
      "metadata": {
        "colab": {
          "base_uri": "https://localhost:8080/"
        },
        "id": "FVhzYEqC0NYx",
        "outputId": "9c7e300f-5a76-4a2b-b6b8-5714d70f3828"
      },
      "execution_count": null,
      "outputs": [
        {
          "output_type": "stream",
          "name": "stdout",
          "text": [
            "1\n"
          ]
        }
      ]
    },
    {
      "cell_type": "code",
      "source": [
        "myIteration = iter(list1)\n",
        "\n",
        "print(next(myIteration))\n",
        "\n"
      ],
      "metadata": {
        "colab": {
          "base_uri": "https://localhost:8080/"
        },
        "id": "MXeeKQU-2OX_",
        "outputId": "9a4259cb-21fe-4e07-b0aa-67865d8a58c4"
      },
      "execution_count": null,
      "outputs": [
        {
          "output_type": "stream",
          "name": "stdout",
          "text": [
            "1\n"
          ]
        }
      ]
    },
    {
      "cell_type": "code",
      "source": [
        "# Interesting 💡\n",
        "list2 = [11,22,33,44,55]\n",
        "myIter = iter(list2)\n",
        "print(next(myIter))\n",
        "print(next(myIter))"
      ],
      "metadata": {
        "colab": {
          "base_uri": "https://localhost:8080/"
        },
        "id": "V2SSNZRx8fuk",
        "outputId": "c371cf89-df89-441d-f029-044aa1f03456"
      },
      "execution_count": null,
      "outputs": [
        {
          "output_type": "stream",
          "name": "stdout",
          "text": [
            "11\n",
            "22\n"
          ]
        }
      ]
    },
    {
      "cell_type": "code",
      "source": [
        "print(next(myIter))\n",
        "print(next(myIter))\n"
      ],
      "metadata": {
        "colab": {
          "base_uri": "https://localhost:8080/"
        },
        "id": "0_J7ImeK5wlX",
        "outputId": "75fdb8d0-c5c3-43c8-d62c-87dbc8e88b9d"
      },
      "execution_count": null,
      "outputs": [
        {
          "output_type": "stream",
          "name": "stdout",
          "text": [
            "33\n",
            "44\n"
          ]
        }
      ]
    },
    {
      "cell_type": "code",
      "source": [
        "seq = 'hello-there'\n",
        "\n",
        "for x in seq:\n",
        "  print(x)"
      ],
      "metadata": {
        "colab": {
          "base_uri": "https://localhost:8080/"
        },
        "id": "5enDBsNi9UWf",
        "outputId": "1bb77ac0-9f39-4813-945c-31650277703f"
      },
      "execution_count": null,
      "outputs": [
        {
          "output_type": "stream",
          "name": "stdout",
          "text": [
            "h\n",
            "e\n",
            "l\n",
            "l\n",
            "o\n",
            "-\n",
            "t\n",
            "h\n",
            "e\n",
            "r\n",
            "e\n"
          ]
        }
      ]
    },
    {
      "cell_type": "code",
      "source": [
        "seq = 'hello-there'\n",
        "\n",
        "myiter = iter(seq)\n",
        "print(next(myiter))"
      ],
      "metadata": {
        "colab": {
          "base_uri": "https://localhost:8080/"
        },
        "id": "Q1htB5hY9cZ1",
        "outputId": "75a12de6-9976-40e0-ff7a-661fe3eb3b11"
      },
      "execution_count": null,
      "outputs": [
        {
          "output_type": "stream",
          "name": "stdout",
          "text": [
            "h\n"
          ]
        }
      ]
    },
    {
      "cell_type": "code",
      "source": [
        "print(next(myiter))\n",
        "print(next(myiter))\n",
        "print(next(myiter))"
      ],
      "metadata": {
        "colab": {
          "base_uri": "https://localhost:8080/"
        },
        "id": "z1kzphHj9q6Q",
        "outputId": "b423a3b9-e6a7-479c-9ac5-32b2f170983f"
      },
      "execution_count": null,
      "outputs": [
        {
          "output_type": "stream",
          "name": "stdout",
          "text": [
            "-\n",
            "t\n",
            "h\n"
          ]
        }
      ]
    },
    {
      "cell_type": "code",
      "source": [
        "# to get index of string\n",
        "\n",
        "seq = 'hello-there'\n",
        "\n",
        "print(seq.index('r'))\n",
        "print(seq.index('e'))\n"
      ],
      "metadata": {
        "colab": {
          "base_uri": "https://localhost:8080/"
        },
        "id": "z4zCJ9hY92Kl",
        "outputId": "546c2b51-8627-4d0c-b233-5a849a928783"
      },
      "execution_count": null,
      "outputs": [
        {
          "output_type": "stream",
          "name": "stdout",
          "text": [
            "9\n",
            "1\n"
          ]
        }
      ]
    },
    {
      "cell_type": "code",
      "source": [
        "print(seq.index('i'))"
      ],
      "metadata": {
        "colab": {
          "base_uri": "https://localhost:8080/",
          "height": 165
        },
        "id": "s8H_N4wc-OzP",
        "outputId": "b8487f5e-6e3b-43b9-9273-4876084cecfa"
      },
      "execution_count": null,
      "outputs": [
        {
          "output_type": "error",
          "ename": "ValueError",
          "evalue": "ignored",
          "traceback": [
            "\u001b[0;31m---------------------------------------------------------------------------\u001b[0m",
            "\u001b[0;31mValueError\u001b[0m                                Traceback (most recent call last)",
            "\u001b[0;32m<ipython-input-93-d9c7eaa8f37b>\u001b[0m in \u001b[0;36m<module>\u001b[0;34m\u001b[0m\n\u001b[0;32m----> 1\u001b[0;31m \u001b[0mprint\u001b[0m\u001b[0;34m(\u001b[0m\u001b[0mseq\u001b[0m\u001b[0;34m.\u001b[0m\u001b[0mindex\u001b[0m\u001b[0;34m(\u001b[0m\u001b[0;34m'i'\u001b[0m\u001b[0;34m)\u001b[0m\u001b[0;34m)\u001b[0m\u001b[0;34m\u001b[0m\u001b[0;34m\u001b[0m\u001b[0m\n\u001b[0m",
            "\u001b[0;31mValueError\u001b[0m: substring not found"
          ]
        }
      ]
    },
    {
      "cell_type": "code",
      "source": [
        "print(seq.index('e',4))"
      ],
      "metadata": {
        "colab": {
          "base_uri": "https://localhost:8080/"
        },
        "id": "bPdGDkd6-bxL",
        "outputId": "4aabd49a-d98e-4ebe-91a9-7ee46b0f2476"
      },
      "execution_count": null,
      "outputs": [
        {
          "output_type": "stream",
          "name": "stdout",
          "text": [
            "8\n"
          ]
        }
      ]
    },
    {
      "cell_type": "code",
      "source": [
        "b = [11,22,33,11,22]\n",
        "print(b.index(11,2,4))            # 11 in the range of 2 and 4"
      ],
      "metadata": {
        "colab": {
          "base_uri": "https://localhost:8080/"
        },
        "id": "HuS_tZzz_YSy",
        "outputId": "acc6a8b5-22d6-4a70-8081-0322a3594bb8"
      },
      "execution_count": null,
      "outputs": [
        {
          "output_type": "stream",
          "name": "stdout",
          "text": [
            "3\n"
          ]
        }
      ]
    },
    {
      "cell_type": "code",
      "source": [
        "# print the larget value is a set\n",
        "# print smallest value in tuple"
      ],
      "metadata": {
        "id": "GnWdCNaCFiZr"
      },
      "execution_count": null,
      "outputs": []
    },
    {
      "cell_type": "code",
      "source": [
        "mySet = {1,2,3,4,5,6,7}\n",
        "\n",
        "print(max(mySet))\n",
        "print(min(mySet))\n",
        "\n",
        "mySet.remove(5)\n",
        "print(mySet)"
      ],
      "metadata": {
        "colab": {
          "base_uri": "https://localhost:8080/"
        },
        "id": "i_bsMkv4F36I",
        "outputId": "40f998e5-15af-440b-ee30-5b25543216f0"
      },
      "execution_count": null,
      "outputs": [
        {
          "output_type": "stream",
          "name": "stdout",
          "text": [
            "7\n",
            "1\n",
            "{1, 2, 3, 4, 6, 7}\n"
          ]
        }
      ]
    },
    {
      "cell_type": "code",
      "source": [
        "# create an input and take some random numbers and then sort them into 2 list as even and odd numbers"
      ],
      "metadata": {
        "id": "WjkMCYL-G-UH"
      },
      "execution_count": null,
      "outputs": []
    },
    {
      "cell_type": "code",
      "source": [
        "n = int(input('enter size '))\n",
        "print('n = ',n)\n",
        "\n",
        "evenList = []\n",
        "oddList = []\n",
        "\n",
        "for i in range (n) :\n",
        "  val = int(input('enter value : '))\n",
        "  if (val % 2) == 0 :\n",
        "    evenList.append(val)\n",
        "  else :\n",
        "    oddList.append(val)  \n",
        "\n",
        "print('Even numbers are : ',evenList)\n",
        "for i in evenList :\n",
        "  print(i)\n",
        "\n",
        "print('odd numbers are : ',oddList)\n",
        "for i in oddList :\n",
        "  print(i)"
      ],
      "metadata": {
        "colab": {
          "base_uri": "https://localhost:8080/"
        },
        "id": "TWFseq8PHMTY",
        "outputId": "cb8355fb-7950-4330-e4dd-af9e81526d52"
      },
      "execution_count": null,
      "outputs": [
        {
          "output_type": "stream",
          "name": "stdout",
          "text": [
            "enter size 4\n",
            "n =  4\n",
            "enter value : 11\n",
            "enter value : 22\n",
            "enter value : 33\n",
            "enter value : 44\n",
            "Even numbers are :  [22, 44]\n",
            "22\n",
            "44\n",
            "odd numbers are :  [11, 33]\n",
            "11\n",
            "33\n"
          ]
        }
      ]
    },
    {
      "cell_type": "code",
      "source": [],
      "metadata": {
        "id": "p45FdCfEWnL9"
      },
      "execution_count": null,
      "outputs": []
    },
    {
      "cell_type": "code",
      "source": [
        "def splitEvenOdd(A):\n",
        "  evenList = []\n",
        "  oddList = []\n",
        "\n",
        "  for i in A:\n",
        "    if (i % 2 == 0 ):\n",
        "      evenList.append(i)\n",
        "    else :\n",
        "      oddList.append(i)  \n",
        "\n",
        "  print('even numbers are : ',evenList)\n",
        "  print('odd numbers are : ',oddList)\n",
        "\n",
        "A = []   # or   --->  A = list()\n",
        "n = int(input('enter size '))\n",
        "print('n = ',n)\n",
        "\n",
        "for i in range (n) :\n",
        "  A.append(int(input('Enter value : ')))\n",
        "\n",
        "splitEvenOdd(A)  \n",
        "\n"
      ],
      "metadata": {
        "colab": {
          "base_uri": "https://localhost:8080/"
        },
        "id": "5BRAStbEM886",
        "outputId": "4d5431ed-1682-4422-94f0-b8ed1f772448"
      },
      "execution_count": null,
      "outputs": [
        {
          "output_type": "stream",
          "name": "stdout",
          "text": [
            "enter size 4\n",
            "n =  4\n",
            "Enter value : 11\n",
            "Enter value : 22\n",
            "Enter value : 33\n",
            "Enter value : 44\n",
            "even numbers are :  [22, 44]\n",
            "odd numbers are :  [11, 33]\n"
          ]
        }
      ]
    },
    {
      "cell_type": "markdown",
      "source": [
        "***CLASS 8***"
      ],
      "metadata": {
        "id": "80u2KSyhQb3u"
      }
    },
    {
      "cell_type": "code",
      "source": [
        "# Exception handling in python  :  u r going to handle the error in better way\n",
        "# 1. Syntax   --> Name Errors\n",
        "# 2. Logical Error --> mathematical Errors\n",
        "\n",
        "# 2 clauses used are :\n",
        "# 1. try\n",
        "# 2. except"
      ],
      "metadata": {
        "id": "H6q-Yj71KBAC"
      },
      "execution_count": null,
      "outputs": []
    },
    {
      "cell_type": "code",
      "source": [
        "try :\n",
        "  print(c)\n",
        "except : \n",
        "  print('an error occured')  "
      ],
      "metadata": {
        "colab": {
          "base_uri": "https://localhost:8080/"
        },
        "id": "ECrchrmLRV1g",
        "outputId": "79e5b417-255c-422c-e275-8f69011ccc52"
      },
      "execution_count": null,
      "outputs": [
        {
          "output_type": "stream",
          "name": "stdout",
          "text": [
            "an error occured\n"
          ]
        }
      ]
    },
    {
      "cell_type": "code",
      "source": [
        "list1 = [1,23,0,45,56,7,8,9]\n",
        "try : \n",
        "  print(list1[0])\n",
        "  print(list1[10])\n",
        "  print(list1[3])\n",
        "except :\n",
        "  print('Invalid Index')  "
      ],
      "metadata": {
        "colab": {
          "base_uri": "https://localhost:8080/"
        },
        "id": "832k_ndJV3Pn",
        "outputId": "ec23d68c-08ab-4a5e-c2b9-709fee012c55"
      },
      "execution_count": null,
      "outputs": [
        {
          "output_type": "stream",
          "name": "stdout",
          "text": [
            "1\n",
            "Invalid Index\n"
          ]
        }
      ]
    },
    {
      "cell_type": "code",
      "source": [
        "import sys\n",
        "\n",
        "try:\n",
        "  x = open('file.txt','r')\n",
        "  print(x.read())\n",
        "  print(x.readlines())\n",
        "except :\n",
        "  print('file does not exist')    "
      ],
      "metadata": {
        "colab": {
          "base_uri": "https://localhost:8080/"
        },
        "id": "eVmFHQQRV-Jm",
        "outputId": "11c8d538-9ead-45ef-e7dd-311f3f597fa3"
      },
      "execution_count": null,
      "outputs": [
        {
          "output_type": "stream",
          "name": "stdout",
          "text": [
            "hello there\n",
            "I'm file.txt\n",
            "[]\n"
          ]
        }
      ]
    },
    {
      "cell_type": "code",
      "source": [
        "import sys\n",
        "\n",
        "try:\n",
        "  x = open('b.txt','r')\n",
        "  print(x.read())\n",
        "except :\n",
        "  print('file does not exist')    \n",
        "finally :\n",
        "  print('the task is partially completed')  "
      ],
      "metadata": {
        "colab": {
          "base_uri": "https://localhost:8080/"
        },
        "id": "eQIsA1QTX5mn",
        "outputId": "eee92547-b464-42ca-9939-31231b04284d"
      },
      "execution_count": null,
      "outputs": [
        {
          "output_type": "stream",
          "name": "stdout",
          "text": [
            "file does not exist\n",
            "the task is partially completed\n"
          ]
        }
      ]
    },
    {
      "cell_type": "code",
      "source": [
        "try :\n",
        "  raise NameError('abcd')\n",
        "except :\n",
        "  print('an error occured')\n",
        "  raise"
      ],
      "metadata": {
        "colab": {
          "base_uri": "https://localhost:8080/",
          "height": 252
        },
        "id": "OlIm7-UkYIUF",
        "outputId": "2e0cbca3-e1b5-42dc-cf05-e46e629c57ac"
      },
      "execution_count": null,
      "outputs": [
        {
          "output_type": "stream",
          "name": "stdout",
          "text": [
            "an error occured\n"
          ]
        },
        {
          "output_type": "error",
          "ename": "NameError",
          "evalue": "ignored",
          "traceback": [
            "\u001b[0;31m---------------------------------------------------------------------------\u001b[0m",
            "\u001b[0;31mNameError\u001b[0m                                 Traceback (most recent call last)",
            "\u001b[0;32m<ipython-input-21-93a0ee32248e>\u001b[0m in \u001b[0;36m<module>\u001b[0;34m\u001b[0m\n\u001b[1;32m      1\u001b[0m \u001b[0;32mtry\u001b[0m \u001b[0;34m:\u001b[0m\u001b[0;34m\u001b[0m\u001b[0;34m\u001b[0m\u001b[0m\n\u001b[0;32m----> 2\u001b[0;31m   \u001b[0;32mraise\u001b[0m \u001b[0mNameError\u001b[0m\u001b[0;34m(\u001b[0m\u001b[0;34m'abcd'\u001b[0m\u001b[0;34m)\u001b[0m\u001b[0;34m\u001b[0m\u001b[0;34m\u001b[0m\u001b[0m\n\u001b[0m\u001b[1;32m      3\u001b[0m \u001b[0;32mexcept\u001b[0m \u001b[0;34m:\u001b[0m\u001b[0;34m\u001b[0m\u001b[0;34m\u001b[0m\u001b[0m\n\u001b[1;32m      4\u001b[0m   \u001b[0mprint\u001b[0m\u001b[0;34m(\u001b[0m\u001b[0;34m'an error occured'\u001b[0m\u001b[0;34m)\u001b[0m\u001b[0;34m\u001b[0m\u001b[0;34m\u001b[0m\u001b[0m\n\u001b[1;32m      5\u001b[0m   \u001b[0;32mraise\u001b[0m\u001b[0;34m\u001b[0m\u001b[0;34m\u001b[0m\u001b[0m\n",
            "\u001b[0;31mNameError\u001b[0m: abcd"
          ]
        }
      ]
    },
    {
      "cell_type": "code",
      "source": [
        "try :\n",
        "  raise ZeroDivisionError('abcd')\n",
        "except :\n",
        "  print('an error occured')\n",
        "  raise"
      ],
      "metadata": {
        "id": "gRG2TTb7Y3j-",
        "outputId": "19ba1186-2db1-409d-a1c7-ef4306c86826",
        "colab": {
          "base_uri": "https://localhost:8080/",
          "height": 252
        }
      },
      "execution_count": null,
      "outputs": [
        {
          "output_type": "stream",
          "name": "stdout",
          "text": [
            "an error occured\n"
          ]
        },
        {
          "output_type": "error",
          "ename": "ZeroDivisionError",
          "evalue": "ignored",
          "traceback": [
            "\u001b[0;31m---------------------------------------------------------------------------\u001b[0m",
            "\u001b[0;31mZeroDivisionError\u001b[0m                         Traceback (most recent call last)",
            "\u001b[0;32m<ipython-input-22-4522e4004fb0>\u001b[0m in \u001b[0;36m<module>\u001b[0;34m\u001b[0m\n\u001b[1;32m      1\u001b[0m \u001b[0;32mtry\u001b[0m \u001b[0;34m:\u001b[0m\u001b[0;34m\u001b[0m\u001b[0;34m\u001b[0m\u001b[0m\n\u001b[0;32m----> 2\u001b[0;31m   \u001b[0;32mraise\u001b[0m \u001b[0mZeroDivisionError\u001b[0m\u001b[0;34m(\u001b[0m\u001b[0;34m'abcd'\u001b[0m\u001b[0;34m)\u001b[0m\u001b[0;34m\u001b[0m\u001b[0;34m\u001b[0m\u001b[0m\n\u001b[0m\u001b[1;32m      3\u001b[0m \u001b[0;32mexcept\u001b[0m \u001b[0;34m:\u001b[0m\u001b[0;34m\u001b[0m\u001b[0;34m\u001b[0m\u001b[0m\n\u001b[1;32m      4\u001b[0m   \u001b[0mprint\u001b[0m\u001b[0;34m(\u001b[0m\u001b[0;34m'an error occured'\u001b[0m\u001b[0;34m)\u001b[0m\u001b[0;34m\u001b[0m\u001b[0;34m\u001b[0m\u001b[0m\n\u001b[1;32m      5\u001b[0m   \u001b[0;32mraise\u001b[0m\u001b[0;34m\u001b[0m\u001b[0;34m\u001b[0m\u001b[0m\n",
            "\u001b[0;31mZeroDivisionError\u001b[0m: abcd"
          ]
        }
      ]
    },
    {
      "cell_type": "code",
      "source": [
        "try :\n",
        "  raise TypeError('abcd')\n",
        "except :\n",
        "  print('an error occured')\n",
        "  raise"
      ],
      "metadata": {
        "colab": {
          "base_uri": "https://localhost:8080/",
          "height": 252
        },
        "id": "tH_Ew1AlZYwm",
        "outputId": "e4db78a8-5889-4adf-c463-66aacbfebf94"
      },
      "execution_count": null,
      "outputs": [
        {
          "output_type": "stream",
          "name": "stdout",
          "text": [
            "an error occured\n"
          ]
        },
        {
          "output_type": "error",
          "ename": "TypeError",
          "evalue": "ignored",
          "traceback": [
            "\u001b[0;31m---------------------------------------------------------------------------\u001b[0m",
            "\u001b[0;31mTypeError\u001b[0m                                 Traceback (most recent call last)",
            "\u001b[0;32m<ipython-input-23-2cbef59c0557>\u001b[0m in \u001b[0;36m<module>\u001b[0;34m\u001b[0m\n\u001b[1;32m      1\u001b[0m \u001b[0;32mtry\u001b[0m \u001b[0;34m:\u001b[0m\u001b[0;34m\u001b[0m\u001b[0;34m\u001b[0m\u001b[0m\n\u001b[0;32m----> 2\u001b[0;31m   \u001b[0;32mraise\u001b[0m \u001b[0mTypeError\u001b[0m\u001b[0;34m(\u001b[0m\u001b[0;34m'abcd'\u001b[0m\u001b[0;34m)\u001b[0m\u001b[0;34m\u001b[0m\u001b[0;34m\u001b[0m\u001b[0m\n\u001b[0m\u001b[1;32m      3\u001b[0m \u001b[0;32mexcept\u001b[0m \u001b[0;34m:\u001b[0m\u001b[0;34m\u001b[0m\u001b[0;34m\u001b[0m\u001b[0m\n\u001b[1;32m      4\u001b[0m   \u001b[0mprint\u001b[0m\u001b[0;34m(\u001b[0m\u001b[0;34m'an error occured'\u001b[0m\u001b[0;34m)\u001b[0m\u001b[0;34m\u001b[0m\u001b[0;34m\u001b[0m\u001b[0m\n\u001b[1;32m      5\u001b[0m   \u001b[0;32mraise\u001b[0m\u001b[0;34m\u001b[0m\u001b[0;34m\u001b[0m\u001b[0m\n",
            "\u001b[0;31mTypeError\u001b[0m: abcd"
          ]
        }
      ]
    },
    {
      "cell_type": "code",
      "source": [
        "x = 5\n",
        "y = 0\n",
        "try :\n",
        "  z = x/y\n",
        "except :\n",
        "  print('y cannot be zero')  "
      ],
      "metadata": {
        "colab": {
          "base_uri": "https://localhost:8080/"
        },
        "id": "F1U7bdlyds9O",
        "outputId": "a1da3417-f9d2-4cc3-9a25-2092b7b2354b"
      },
      "execution_count": null,
      "outputs": [
        {
          "output_type": "stream",
          "name": "stdout",
          "text": [
            "y cannot be zero\n"
          ]
        }
      ]
    },
    {
      "cell_type": "code",
      "source": [
        "# Comprehension  --> the task can be implemented in a short and precise way\n",
        "\n",
        "# 4 types of comprehension\n",
        "# list\n",
        "# dictionary\n",
        "# set\n",
        "# generator"
      ],
      "metadata": {
        "id": "RbOnTyradvAh"
      },
      "execution_count": null,
      "outputs": []
    },
    {
      "cell_type": "code",
      "source": [
        "#1. list\n",
        "\n",
        "myIterList = [1,23,4,5,6,7,8]"
      ],
      "metadata": {
        "id": "rZRo872leYlX"
      },
      "execution_count": null,
      "outputs": []
    },
    {
      "cell_type": "code",
      "source": [
        "# basic way\n",
        "evenList = []\n",
        "\n",
        "for x in myIterList :\n",
        "  if x % 2 == 0 :\n",
        "    evenList.append(x)\n",
        "\n",
        "print(evenList)    "
      ],
      "metadata": {
        "colab": {
          "base_uri": "https://localhost:8080/"
        },
        "id": "mblB-vY3elAt",
        "outputId": "3b60e838-e95f-440e-c489-55cd167997ec"
      },
      "execution_count": null,
      "outputs": [
        {
          "output_type": "stream",
          "name": "stdout",
          "text": [
            "[4, 6, 8]\n"
          ]
        }
      ]
    },
    {
      "cell_type": "code",
      "source": [
        "# list comprehension --->  # methods can be implemented in a more short and precised way \n",
        "myList = [11,22,33,44,55,66,77,88]\n",
        "\n",
        "# [---> 3. val --->       1. for val in myList ---->    2. if val % 2 == 0] \n",
        "\n",
        "evenno = [val for val in myList if val % 2 == 0]\n",
        "print(evenno)"
      ],
      "metadata": {
        "colab": {
          "base_uri": "https://localhost:8080/"
        },
        "id": "2-8KtCSHf70U",
        "outputId": "5eb06af5-4613-49e3-8467-14d750ad5ca9"
      },
      "execution_count": null,
      "outputs": [
        {
          "output_type": "stream",
          "name": "stdout",
          "text": [
            "[22, 44, 66, 88]\n"
          ]
        }
      ]
    },
    {
      "cell_type": "code",
      "source": [
        "# Basic dictionary \n",
        "# empty dictionary to get filled by list values\n",
        "\n",
        "# myList = [11,22,33,44,55,66,77,88]\n",
        "\n",
        "myDic = {}\n",
        "\n",
        "for y in myList :\n",
        "  myDic[y] = y*3\n",
        "\n",
        "print(myDic)"
      ],
      "metadata": {
        "colab": {
          "base_uri": "https://localhost:8080/"
        },
        "id": "G3M3os4Rhofj",
        "outputId": "57700b68-74ea-4b5b-d57c-51207f1ec3b3"
      },
      "execution_count": null,
      "outputs": [
        {
          "output_type": "stream",
          "name": "stdout",
          "text": [
            "{11: 33, 22: 66, 33: 99, 44: 132, 55: 165, 66: 198, 77: 231, 88: 264}\n"
          ]
        }
      ]
    },
    {
      "cell_type": "code",
      "source": [
        "#2. Dictionary comprehension\n",
        "myDic2 = {y:y*3 for y in myList }\n",
        "\n",
        "print(myDic2)"
      ],
      "metadata": {
        "colab": {
          "base_uri": "https://localhost:8080/"
        },
        "id": "WbycOI1RkNdC",
        "outputId": "dcc9ba16-29f2-402d-f530-d4caffa7865a"
      },
      "execution_count": null,
      "outputs": [
        {
          "output_type": "stream",
          "name": "stdout",
          "text": [
            "{11: 33, 22: 66, 33: 99, 44: 132, 55: 165, 66: 198, 77: 231, 88: 264}\n"
          ]
        }
      ]
    },
    {
      "cell_type": "markdown",
      "source": [
        "***`CLASS 9`***\n",
        "\n",
        "---\n",
        "\n",
        "\\"
      ],
      "metadata": {
        "id": "nFMEvk-QkTdO"
      }
    },
    {
      "cell_type": "code",
      "source": [
        "myList = [1,2,3,4,5,6,7,8,2,2,3,3,4]\n",
        "\n",
        "mySet = set()\n",
        "\n",
        "for x in myList :\n",
        "  mySet.add(x)\n",
        "\n",
        "print(mySet)  "
      ],
      "metadata": {
        "id": "eV_13reqkQzv",
        "colab": {
          "base_uri": "https://localhost:8080/"
        },
        "outputId": "dafe4b85-4743-4590-a353-1074ae0d8149"
      },
      "execution_count": null,
      "outputs": [
        {
          "output_type": "stream",
          "name": "stdout",
          "text": [
            "{1, 2, 3, 4, 5, 6, 7, 8}\n"
          ]
        }
      ]
    },
    {
      "cell_type": "code",
      "source": [
        "#3. Set comprehension\n",
        "mySet1 = {x for x in myList}\n",
        "\n",
        "print(mySet1)"
      ],
      "metadata": {
        "colab": {
          "base_uri": "https://localhost:8080/"
        },
        "id": "8nbou1DZm0LF",
        "outputId": "10a43ecb-42a9-4fe6-a6e5-f4bbb1b649da"
      },
      "execution_count": null,
      "outputs": [
        {
          "output_type": "stream",
          "name": "stdout",
          "text": [
            "{1, 2, 3, 4, 5, 6, 7, 8}\n"
          ]
        }
      ]
    },
    {
      "cell_type": "code",
      "source": [
        "# 4. GENERATOR Comprehension ---> generating the value (the value will be generated using yield keyword)\n",
        "# next function will print the value\n",
        "def gen(x):\n",
        "  print('the values are :')\n",
        "  yield x+10-x\n",
        "  yield 10*x\n",
        "  yield 30*x\n",
        "\n",
        "y = gen(8)\n",
        "print(next(y))\n",
        "print(next(y))\n",
        "\n",
        "\n"
      ],
      "metadata": {
        "id": "q8SQ4hLYng6G",
        "colab": {
          "base_uri": "https://localhost:8080/"
        },
        "outputId": "28a0c7f1-48d4-496f-b35d-d8004422505c"
      },
      "execution_count": null,
      "outputs": [
        {
          "output_type": "stream",
          "name": "stdout",
          "text": [
            "the values are :\n",
            "10\n",
            "80\n"
          ]
        }
      ]
    },
    {
      "cell_type": "code",
      "source": [
        "print(next(y))"
      ],
      "metadata": {
        "colab": {
          "base_uri": "https://localhost:8080/"
        },
        "id": "rqPtR_2eLr0e",
        "outputId": "2f3bb4fb-662a-452c-82fd-81334bcd9e78"
      },
      "execution_count": null,
      "outputs": [
        {
          "output_type": "stream",
          "name": "stdout",
          "text": [
            "240\n"
          ]
        }
      ]
    },
    {
      "cell_type": "code",
      "source": [
        "def gen(x):\n",
        "  print('the values are :')\n",
        "  yield x+10-x\n",
        "  yield 10*x\n",
        "  yield 30*x\n",
        "\n",
        "# y = gen(8)\n",
        "for y in gen(2):\n",
        "  print(y)"
      ],
      "metadata": {
        "colab": {
          "base_uri": "https://localhost:8080/"
        },
        "id": "c7oK0sFRL44C",
        "outputId": "23dcd49a-0398-4f18-a9d8-11dfe27c8948"
      },
      "execution_count": null,
      "outputs": [
        {
          "output_type": "stream",
          "name": "stdout",
          "text": [
            "the values are :\n",
            "10\n",
            "20\n",
            "60\n"
          ]
        }
      ]
    },
    {
      "cell_type": "code",
      "source": [
        "# yield will be helping to generate a value\n",
        "# return will be sending the data back as a result\n",
        "\n",
        "# difference between yield and return is : code will return (run) after yield . code will not run after return func.\n",
        "\n",
        "def a(b):\n",
        "  return b\n",
        "\n",
        "a('the task is completed.')"
      ],
      "metadata": {
        "colab": {
          "base_uri": "https://localhost:8080/",
          "height": 36
        },
        "id": "fvc1t0EwMerx",
        "outputId": "59081f29-d908-4232-9d87-89f26a8d76b3"
      },
      "execution_count": null,
      "outputs": [
        {
          "output_type": "execute_result",
          "data": {
            "text/plain": [
              "'the task is completed.'"
            ],
            "application/vnd.google.colaboratory.intrinsic+json": {
              "type": "string"
            }
          },
          "metadata": {},
          "execution_count": 27
        }
      ]
    },
    {
      "cell_type": "code",
      "source": [
        "# basic fun\n",
        "\n",
        "def add(a,b):\n",
        "  print(a+b)\n",
        "\n",
        "add(2,3)  "
      ],
      "metadata": {
        "colab": {
          "base_uri": "https://localhost:8080/"
        },
        "id": "JL3fUJMSQThD",
        "outputId": "da8439ac-0251-40ad-e757-ccdb05738fa1"
      },
      "execution_count": null,
      "outputs": [
        {
          "output_type": "stream",
          "name": "stdout",
          "text": [
            "5\n"
          ]
        }
      ]
    },
    {
      "cell_type": "code",
      "source": [
        "# LAMBDA function --> anonymous function. function can take any number of parameters\n"
      ],
      "metadata": {
        "id": "anJrjWrHOxho"
      },
      "execution_count": null,
      "outputs": []
    },
    {
      "cell_type": "code",
      "source": [
        "x = lambda x:x+10\n",
        "print(x(10))"
      ],
      "metadata": {
        "colab": {
          "base_uri": "https://localhost:8080/"
        },
        "id": "JMo4wGnCO3kf",
        "outputId": "2390cc95-8c6f-4006-900c-ba3ab982c627"
      },
      "execution_count": null,
      "outputs": [
        {
          "output_type": "stream",
          "name": "stdout",
          "text": [
            "20\n"
          ]
        }
      ]
    },
    {
      "cell_type": "code",
      "source": [
        "x1 = lambda x,uy,z:x+uy+z\n",
        "print(x1(3,4,4))\n",
        "\n",
        "print((x1)(3,4,4))"
      ],
      "metadata": {
        "colab": {
          "base_uri": "https://localhost:8080/"
        },
        "id": "rKIo8ISxqS-v",
        "outputId": "2ab78f29-e84b-4ed1-d554-10c2dba645e0"
      },
      "execution_count": null,
      "outputs": [
        {
          "output_type": "stream",
          "name": "stdout",
          "text": [
            "11\n",
            "11\n"
          ]
        }
      ]
    },
    {
      "cell_type": "code",
      "source": [
        "print((lambda a,b,c:a+b+c+3) (1,2,3))"
      ],
      "metadata": {
        "colab": {
          "base_uri": "https://localhost:8080/"
        },
        "id": "SX6XJhZXQfPl",
        "outputId": "6f98dcca-ab7a-4aad-ae3d-02ddae952c19"
      },
      "execution_count": null,
      "outputs": [
        {
          "output_type": "stream",
          "name": "stdout",
          "text": [
            "9\n"
          ]
        }
      ]
    },
    {
      "cell_type": "code",
      "source": [
        "list1 = [lambda x=x:x*10 for x in range(1,11)]\n",
        "for i in list1:\n",
        "  print(i())"
      ],
      "metadata": {
        "colab": {
          "base_uri": "https://localhost:8080/"
        },
        "id": "zZk0kjLyRneN",
        "outputId": "736e913e-d903-4718-aa62-2b975ffdfe69"
      },
      "execution_count": null,
      "outputs": [
        {
          "output_type": "stream",
          "name": "stdout",
          "text": [
            "10\n",
            "20\n",
            "30\n",
            "40\n",
            "50\n",
            "60\n",
            "70\n",
            "80\n",
            "90\n",
            "100\n"
          ]
        }
      ]
    },
    {
      "cell_type": "code",
      "source": [
        "list1 = [lambda x=x:x*5 for x in range(1,6)]          #1. for x in range(1,6)       2. x=x:x*5   [  2.a.  x:  ]     3. list1 = []\n",
        "for i in list1:\n",
        "  print(i(3))"
      ],
      "metadata": {
        "colab": {
          "base_uri": "https://localhost:8080/"
        },
        "id": "yXVKUdhxWClz",
        "outputId": "c24891ba-7b72-4a40-ca9b-7b08d24bb5e2"
      },
      "execution_count": null,
      "outputs": [
        {
          "output_type": "stream",
          "name": "stdout",
          "text": [
            "15\n",
            "15\n",
            "15\n",
            "15\n",
            "15\n"
          ]
        }
      ]
    },
    {
      "cell_type": "code",
      "source": [
        "y = lambda a,b : a if (a>b) else b\n",
        "print(y(3,2)) "
      ],
      "metadata": {
        "colab": {
          "base_uri": "https://localhost:8080/"
        },
        "id": "KJdNKCTrWKBF",
        "outputId": "47e9e824-0cf6-4c57-c25b-a2d36bbf3977"
      },
      "execution_count": null,
      "outputs": [
        {
          "output_type": "stream",
          "name": "stdout",
          "text": [
            "3\n"
          ]
        }
      ]
    },
    {
      "cell_type": "code",
      "source": [
        "tables = [lambda x = x:x+10 for x in range(1,11)]\n",
        "for z in tables:\n",
        "  print(z(3))"
      ],
      "metadata": {
        "colab": {
          "base_uri": "https://localhost:8080/"
        },
        "id": "wsJTS_7taAnm",
        "outputId": "1af93861-308b-4582-f106-34bcd4d33fbd"
      },
      "execution_count": null,
      "outputs": [
        {
          "output_type": "stream",
          "name": "stdout",
          "text": [
            "13\n",
            "13\n",
            "13\n",
            "13\n",
            "13\n",
            "13\n",
            "13\n",
            "13\n",
            "13\n",
            "13\n"
          ]
        }
      ]
    },
    {
      "cell_type": "code",
      "source": [
        "tables = [lambda x = x:x+10 for y in range(1,11)]\n",
        "for z in tables:\n",
        "  print(z(3))"
      ],
      "metadata": {
        "colab": {
          "base_uri": "https://localhost:8080/"
        },
        "id": "BC3LO5LVW7qR",
        "outputId": "8fe069d7-f773-494a-cbd4-d72bbca6881f"
      },
      "execution_count": null,
      "outputs": [
        {
          "output_type": "stream",
          "name": "stdout",
          "text": [
            "13\n",
            "13\n",
            "13\n",
            "13\n",
            "13\n",
            "13\n",
            "13\n",
            "13\n",
            "13\n",
            "13\n"
          ]
        }
      ]
    },
    {
      "cell_type": "code",
      "source": [
        "tables = [lambda x = y:x+10 for y in range(1,11)]\n",
        "for z in tables:\n",
        "  print(z(3))"
      ],
      "metadata": {
        "colab": {
          "base_uri": "https://localhost:8080/"
        },
        "id": "37QeCIKkay16",
        "outputId": "cd174dcf-8e86-4bd0-8492-44d41dff709b"
      },
      "execution_count": null,
      "outputs": [
        {
          "output_type": "stream",
          "name": "stdout",
          "text": [
            "13\n",
            "13\n",
            "13\n",
            "13\n",
            "13\n",
            "13\n",
            "13\n",
            "13\n",
            "13\n",
            "13\n"
          ]
        }
      ]
    },
    {
      "cell_type": "code",
      "source": [
        "m = lambda x,y : x if x>y else y\n",
        "a,b=[int(n) for n in input('enter two numbers : ').split(',')]\n",
        "print('Bigger number is : ',m(a,b))"
      ],
      "metadata": {
        "colab": {
          "base_uri": "https://localhost:8080/"
        },
        "id": "c4h9KMrha_T4",
        "outputId": "f6d2905d-c055-42a3-8d96-75c995f40eef"
      },
      "execution_count": null,
      "outputs": [
        {
          "output_type": "stream",
          "name": "stdout",
          "text": [
            "enter two numbers : 10,30\n",
            "Bigger number is :  30\n"
          ]
        }
      ]
    },
    {
      "cell_type": "markdown",
      "source": [
        "#                                   **STRING FORMATTING**"
      ],
      "metadata": {
        "id": "HkR2ywPnzaht"
      }
    },
    {
      "cell_type": "markdown",
      "source": [
        "# 1. operators\n",
        "# 2. format\n",
        "# 3. fstring\n",
        "# 4. string template class"
      ],
      "metadata": {
        "id": "_zw2X_tf1OHg"
      }
    },
    {
      "cell_type": "code",
      "source": [
        "# string formatting\n",
        "\n",
        "\n",
        "# operators\n",
        "print('Hello %s, Welcome all' %'CLASS') "
      ],
      "metadata": {
        "colab": {
          "base_uri": "https://localhost:8080/"
        },
        "id": "LgOcM7gxc1ME",
        "outputId": "55a25906-6b0c-4b6e-fda8-b85948b5cb5c"
      },
      "execution_count": null,
      "outputs": [
        {
          "output_type": "stream",
          "name": "stdout",
          "text": [
            "Hello CLASS, Welcome all\n"
          ]
        }
      ]
    },
    {
      "cell_type": "code",
      "source": [
        "print(\"Hello %sWelcome %s\" %(\"CLASS \\n\",'ALL'))"
      ],
      "metadata": {
        "colab": {
          "base_uri": "https://localhost:8080/"
        },
        "id": "6jcWngdudoI1",
        "outputId": "869a54c7-65c8-4972-8792-4c081e09f8a9"
      },
      "execution_count": null,
      "outputs": [
        {
          "output_type": "stream",
          "name": "stdout",
          "text": [
            "Hello CLASS \n",
            "Welcome ALL\n"
          ]
        }
      ]
    },
    {
      "cell_type": "code",
      "source": [
        "# format method\n",
        "\n",
        "print(\"Hello {1} Welcome {0}\" .format(\"CLASS \\n\",'ALL'))"
      ],
      "metadata": {
        "colab": {
          "base_uri": "https://localhost:8080/"
        },
        "id": "Ml7L-IxoeOJq",
        "outputId": "e0cb0645-d6d1-4a2a-fa43-79b7ff44412f"
      },
      "execution_count": null,
      "outputs": [
        {
          "output_type": "stream",
          "name": "stdout",
          "text": [
            "Hello ALL Welcome CLASS \n",
            "\n"
          ]
        }
      ]
    },
    {
      "cell_type": "markdown",
      "source": [
        "***CLASS 10***\n",
        "\n",
        "\n",
        "---\n",
        "\n",
        "\n",
        "\n"
      ],
      "metadata": {
        "id": "8TK8cjclwGIq"
      }
    },
    {
      "cell_type": "code",
      "source": [
        "print('%(Company)s is a %(Department)s Portal.' %{'Company' : 'GFG', 'Department' : 'CS'})"
      ],
      "metadata": {
        "colab": {
          "base_uri": "https://localhost:8080/"
        },
        "id": "XAP3MHHyv34n",
        "outputId": "8a096d3a-7aaa-4047-c08a-e51ab5dcb06f"
      },
      "execution_count": null,
      "outputs": [
        {
          "output_type": "stream",
          "name": "stdout",
          "text": [
            "GFG is a CS Portal.\n"
          ]
        }
      ]
    },
    {
      "cell_type": "code",
      "source": [
        "geopoint = {'latitude' : 41.123, 'longitude' : 71.091}\n",
        "print('{longitude} {latitude}'.format(**geopoint))\n",
        "\n",
        "print('{latitude} {longitude}'.format(**geopoint))"
      ],
      "metadata": {
        "colab": {
          "base_uri": "https://localhost:8080/"
        },
        "id": "psMXu2ylvbAL",
        "outputId": "cee5917a-7b4c-4e15-c478-5318e93af12b"
      },
      "execution_count": null,
      "outputs": [
        {
          "output_type": "stream",
          "name": "stdout",
          "text": [
            "71.091 41.123\n",
            "41.123 71.091\n"
          ]
        }
      ]
    },
    {
      "cell_type": "code",
      "source": [
        "print('Hello : {a}'.format(a='Tom'))"
      ],
      "metadata": {
        "colab": {
          "base_uri": "https://localhost:8080/"
        },
        "id": "dnBibwC1zLp1",
        "outputId": "2569c7ab-5185-4488-da7e-c63a4e808dcf"
      },
      "execution_count": null,
      "outputs": [
        {
          "output_type": "stream",
          "name": "stdout",
          "text": [
            "Hello : Tom\n"
          ]
        }
      ]
    },
    {
      "cell_type": "code",
      "source": [
        "# fstring  --->  used to embed values into a string"
      ],
      "metadata": {
        "id": "pmOq-6a8z_Ya"
      },
      "execution_count": null,
      "outputs": []
    },
    {
      "cell_type": "markdown",
      "source": [
        "# f"
      ],
      "metadata": {
        "id": "jrZ8axyG0aBq"
      }
    },
    {
      "cell_type": "code",
      "source": [
        "num1 = 10\n",
        "num2 = 29\n",
        "\n",
        "print(f'the sum of 2 values are : {num1+num2}')"
      ],
      "metadata": {
        "colab": {
          "base_uri": "https://localhost:8080/"
        },
        "id": "3iDsO0ws0b1f",
        "outputId": "c241e6b4-f449-4c3a-faaf-f5482bd54623"
      },
      "execution_count": null,
      "outputs": [
        {
          "output_type": "stream",
          "name": "stdout",
          "text": [
            "the sum of 2 values are : 39\n"
          ]
        }
      ]
    },
    {
      "cell_type": "code",
      "source": [
        "a = 10 ** 3\n",
        "print(f'the value of a is : {a}')"
      ],
      "metadata": {
        "colab": {
          "base_uri": "https://localhost:8080/"
        },
        "id": "QzUylpEt0tN9",
        "outputId": "82722990-a7e5-4993-af30-1b7ffc9e148c"
      },
      "execution_count": null,
      "outputs": [
        {
          "output_type": "stream",
          "name": "stdout",
          "text": [
            "the value of a is : 1000\n"
          ]
        }
      ]
    },
    {
      "cell_type": "markdown",
      "source": [
        "# Modules"
      ],
      "metadata": {
        "id": "XIACYSxq2TFv"
      }
    },
    {
      "cell_type": "code",
      "source": [
        "import math\n",
        "print(math.sin(1))"
      ],
      "metadata": {
        "colab": {
          "base_uri": "https://localhost:8080/"
        },
        "id": "QRM4k8uh2Czm",
        "outputId": "08b90d33-fce4-41c8-ea83-0a481c655bd6"
      },
      "execution_count": null,
      "outputs": [
        {
          "output_type": "stream",
          "name": "stdout",
          "text": [
            "0.8414709848078965\n"
          ]
        }
      ]
    },
    {
      "cell_type": "code",
      "source": [
        "print(math.pi)"
      ],
      "metadata": {
        "colab": {
          "base_uri": "https://localhost:8080/"
        },
        "id": "LdZbUIAV34jp",
        "outputId": "855a3cb7-f9f4-48a7-ce28-cd07a0fb8c4b"
      },
      "execution_count": null,
      "outputs": [
        {
          "output_type": "stream",
          "name": "stdout",
          "text": [
            "3.141592653589793\n"
          ]
        }
      ]
    },
    {
      "cell_type": "code",
      "source": [
        "print(math.cos(90))"
      ],
      "metadata": {
        "colab": {
          "base_uri": "https://localhost:8080/"
        },
        "id": "t30WpBmF36vG",
        "outputId": "4476c6ee-21ed-4aee-cf88-6f1156b54ac8"
      },
      "execution_count": null,
      "outputs": [
        {
          "output_type": "stream",
          "name": "stdout",
          "text": [
            "-0.4480736161291701\n"
          ]
        }
      ]
    },
    {
      "cell_type": "code",
      "source": [
        "import datetime\n",
        "\n",
        "data = datetime.datetime.now()\n",
        "print(data)"
      ],
      "metadata": {
        "colab": {
          "base_uri": "https://localhost:8080/"
        },
        "id": "5Jb-bCdQ4BDy",
        "outputId": "29cacc49-570d-417c-9df4-0ee9825d02d7"
      },
      "execution_count": null,
      "outputs": [
        {
          "output_type": "stream",
          "name": "stdout",
          "text": [
            "2023-03-21 11:15:24.317345\n"
          ]
        }
      ]
    },
    {
      "cell_type": "code",
      "source": [
        "from datetime import datetime as date\n",
        "b=date.now()\n",
        "print(b)"
      ],
      "metadata": {
        "colab": {
          "base_uri": "https://localhost:8080/"
        },
        "id": "Ij9mkFE94cnQ",
        "outputId": "b2ab227f-2a94-4af5-a93d-c96e6fd18bbf"
      },
      "execution_count": null,
      "outputs": [
        {
          "output_type": "stream",
          "name": "stdout",
          "text": [
            "2023-03-21 11:19:55.535034\n"
          ]
        }
      ]
    },
    {
      "cell_type": "code",
      "source": [
        "from datetime import datetime as date\n",
        "b=date.now()\n",
        "a = b.strftime('%a')      # time is converted into string format\n",
        "print(a)"
      ],
      "metadata": {
        "colab": {
          "base_uri": "https://localhost:8080/"
        },
        "id": "maSncCmJ5s1c",
        "outputId": "e7f5270c-0d5d-4ee6-c45f-55924448276f"
      },
      "execution_count": null,
      "outputs": [
        {
          "output_type": "stream",
          "name": "stdout",
          "text": [
            "Tue\n"
          ]
        }
      ]
    },
    {
      "cell_type": "code",
      "source": [
        "from datetime import datetime as date\n",
        "b=date.now()\n",
        "a = b.strftime('%A')      \n",
        "print(a)"
      ],
      "metadata": {
        "colab": {
          "base_uri": "https://localhost:8080/"
        },
        "id": "_TO3qGfL71CI",
        "outputId": "dd9722d6-ec51-4b49-cc67-1e87ff65a309"
      },
      "execution_count": null,
      "outputs": [
        {
          "output_type": "stream",
          "name": "stdout",
          "text": [
            "Tuesday\n"
          ]
        }
      ]
    },
    {
      "cell_type": "code",
      "source": [
        "from datetime import datetime as date\n",
        "b=date.now()\n",
        "a = b.strftime('%b')      \n",
        "print(a)"
      ],
      "metadata": {
        "colab": {
          "base_uri": "https://localhost:8080/"
        },
        "id": "NsjvcrkY8TxD",
        "outputId": "5adb9887-ffbb-4524-dd5f-1d5f18a13ebc"
      },
      "execution_count": null,
      "outputs": [
        {
          "output_type": "stream",
          "name": "stdout",
          "text": [
            "Mar\n"
          ]
        }
      ]
    },
    {
      "cell_type": "code",
      "source": [
        "from datetime import datetime as date\n",
        "b=date.now()\n",
        "a = b.strftime('%B')      \n",
        "print(a)"
      ],
      "metadata": {
        "colab": {
          "base_uri": "https://localhost:8080/"
        },
        "id": "dzI-uD2v8X5a",
        "outputId": "c91c87a6-de5f-48da-c29c-eeeb07e015a5"
      },
      "execution_count": null,
      "outputs": [
        {
          "output_type": "stream",
          "name": "stdout",
          "text": [
            "March\n"
          ]
        }
      ]
    },
    {
      "cell_type": "code",
      "source": [
        "from datetime import datetime as date\n",
        "b=date.now()\n",
        "a = b.strftime('%c')      \n",
        "print(a)"
      ],
      "metadata": {
        "colab": {
          "base_uri": "https://localhost:8080/"
        },
        "id": "yeET9uAS8ak7",
        "outputId": "d6bdf19e-4755-4a4f-9ea3-d9e61cd6a6d1"
      },
      "execution_count": null,
      "outputs": [
        {
          "output_type": "stream",
          "name": "stdout",
          "text": [
            "Tue Mar 21 11:33:04 2023\n"
          ]
        }
      ]
    },
    {
      "cell_type": "code",
      "source": [
        "from datetime import datetime as date\n",
        "b=date.now()\n",
        "a = b.strftime('%C')      \n",
        "print(a)"
      ],
      "metadata": {
        "colab": {
          "base_uri": "https://localhost:8080/"
        },
        "id": "DU-0pSim8cmU",
        "outputId": "53a3e41a-2a16-4b38-892d-c51dbaa86d2a"
      },
      "execution_count": null,
      "outputs": [
        {
          "output_type": "stream",
          "name": "stdout",
          "text": [
            "20\n"
          ]
        }
      ]
    },
    {
      "cell_type": "code",
      "source": [
        "from datetime import datetime as date\n",
        "b=date.now()\n",
        "a = b.strftime('%m')      # gives month\n",
        "print(a)"
      ],
      "metadata": {
        "colab": {
          "base_uri": "https://localhost:8080/"
        },
        "id": "AzFDEYZ08ofY",
        "outputId": "98415e83-b3e8-40e9-fcaf-23a4e9ef468e"
      },
      "execution_count": null,
      "outputs": [
        {
          "output_type": "stream",
          "name": "stdout",
          "text": [
            "03\n"
          ]
        }
      ]
    },
    {
      "cell_type": "code",
      "source": [
        "from datetime import datetime as date\n",
        "b=date.now()\n",
        "a = b.strftime('%M')      # gives minites\n",
        "print(a)"
      ],
      "metadata": {
        "colab": {
          "base_uri": "https://localhost:8080/"
        },
        "id": "oAbkDNt58ysn",
        "outputId": "da167e80-4e6c-411c-b3ea-f5b38d899d13"
      },
      "execution_count": null,
      "outputs": [
        {
          "output_type": "stream",
          "name": "stdout",
          "text": [
            "34\n"
          ]
        }
      ]
    },
    {
      "cell_type": "code",
      "source": [
        "import module1\n",
        "\n",
        "module1.a('Sinch','Hello')"
      ],
      "metadata": {
        "colab": {
          "base_uri": "https://localhost:8080/"
        },
        "id": "TZBhbnR_87N1",
        "outputId": "21e8b397-e022-4ef8-a6ab-9083c5f5db30"
      },
      "execution_count": null,
      "outputs": [
        {
          "output_type": "stream",
          "name": "stdout",
          "text": [
            "Hello Sinch\n"
          ]
        }
      ]
    },
    {
      "cell_type": "markdown",
      "source": [
        "# Regular Expression"
      ],
      "metadata": {
        "id": "AIhCD57Tcgpr"
      }
    },
    {
      "cell_type": "code",
      "source": [
        "# Regular Expression  --->  is a sequence of character thst forms a search pattern\n",
        "# Search\n",
        "\n",
        "import re\n",
        "\n",
        "a = 'Hello , you are welcome'"
      ],
      "metadata": {
        "id": "6vA8Z93_cGR-"
      },
      "execution_count": null,
      "outputs": []
    },
    {
      "cell_type": "code",
      "source": [
        "import re\n",
        "\n",
        "a = 'Hello , you are welcome'\n",
        "b = re.search('you are',a)\n",
        "print('Starting index number : ',b.start())\n",
        "print('Ending index number : ',b.end())\n",
        "print(b.group())\n",
        "print(b.span())"
      ],
      "metadata": {
        "colab": {
          "base_uri": "https://localhost:8080/"
        },
        "id": "SvQhWzATdD6X",
        "outputId": "08bc8118-0c47-4e47-ae9a-15f1379f2a8c"
      },
      "execution_count": null,
      "outputs": [
        {
          "output_type": "stream",
          "name": "stdout",
          "text": [
            "Starting index number :  8\n",
            "Ending index number :  15\n",
            "you are\n",
            "(8, 15)\n"
          ]
        }
      ]
    },
    {
      "cell_type": "code",
      "source": [
        "# Sub --->  replacing the \"white space\" with the number or a character\n",
        "\n",
        "a = 'Hello , you are welcome'\n",
        "c = re.sub('\\s','and',a)\n",
        "print(c)"
      ],
      "metadata": {
        "colab": {
          "base_uri": "https://localhost:8080/"
        },
        "id": "a6To3_Hnd0w5",
        "outputId": "20c7a56a-025c-4cac-bb56-c2c63d578e86"
      },
      "execution_count": null,
      "outputs": [
        {
          "output_type": "stream",
          "name": "stdout",
          "text": [
            "Helloand,andyouandareandwelcome\n"
          ]
        }
      ]
    },
    {
      "cell_type": "code",
      "source": [
        "a = 'Hello , you are welcome'\n",
        "c = re.sub('\\s','#',a)\n",
        "print(c)"
      ],
      "metadata": {
        "colab": {
          "base_uri": "https://localhost:8080/"
        },
        "id": "Vsvn1yK-eStx",
        "outputId": "563eac75-8dfe-4425-990b-de1cae3cb76b"
      },
      "execution_count": null,
      "outputs": [
        {
          "output_type": "stream",
          "name": "stdout",
          "text": [
            "Hello#,#you#are#welcome\n"
          ]
        }
      ]
    },
    {
      "cell_type": "code",
      "source": [
        "d = '#Hello#,#you#are#welcome#'\n",
        "\n",
        "e = re.split('#',d)\n",
        "print(e)\n"
      ],
      "metadata": {
        "colab": {
          "base_uri": "https://localhost:8080/"
        },
        "id": "n9G_ifr2ecI0",
        "outputId": "919d3497-e266-4d7e-d7d2-7f4fabf28ca8"
      },
      "execution_count": null,
      "outputs": [
        {
          "output_type": "stream",
          "name": "stdout",
          "text": [
            "['', 'Hello', ',', 'you', 'are', 'welcome', '']\n"
          ]
        }
      ]
    },
    {
      "cell_type": "code",
      "source": [
        "d = '#hi#hello#Hello#,#you#are#welcome'\n",
        "\n",
        "e = d.split('#',4)      # upto 4t #'s   --->   only splited\n",
        "print(e)\n"
      ],
      "metadata": {
        "colab": {
          "base_uri": "https://localhost:8080/"
        },
        "id": "AJ0qLa6wge9i",
        "outputId": "9b60abf7-ae99-492a-b508-d31816d6b572"
      },
      "execution_count": null,
      "outputs": [
        {
          "output_type": "stream",
          "name": "stdout",
          "text": [
            "['', 'hi', 'hello', 'Hello', ',#you#are#welcome']\n"
          ]
        }
      ]
    },
    {
      "cell_type": "code",
      "source": [
        "data = 'Welcome all 12346'\n",
        "match = re.findall('\\d',data)         # get numbers\n",
        "print(match)"
      ],
      "metadata": {
        "colab": {
          "base_uri": "https://localhost:8080/"
        },
        "id": "s0-lY2_HfK6T",
        "outputId": "a1c995ed-ad1f-4e24-9f52-569b9e82eaf9"
      },
      "execution_count": null,
      "outputs": [
        {
          "output_type": "stream",
          "name": "stdout",
          "text": [
            "['1', '2', '3', '4', '6']\n"
          ]
        }
      ]
    },
    {
      "cell_type": "code",
      "source": [
        "data = 'Welcome all 12346a3@55'\n",
        "match = re.findall('\\d+',data)      # combine all together\n",
        "print(match)"
      ],
      "metadata": {
        "colab": {
          "base_uri": "https://localhost:8080/"
        },
        "id": "qgGaKRaKfYNc",
        "outputId": "13e3a6f9-b231-4ff3-f685-50f81754211f"
      },
      "execution_count": null,
      "outputs": [
        {
          "output_type": "stream",
          "name": "stdout",
          "text": [
            "['12346', '3', '55']\n"
          ]
        }
      ]
    },
    {
      "cell_type": "code",
      "source": [
        "d = ' and hi and hello and Hello and , and you and are and welcome'\n",
        "\n",
        "e = re.split('and',d)      \n",
        "print(e)"
      ],
      "metadata": {
        "colab": {
          "base_uri": "https://localhost:8080/"
        },
        "id": "_hfY3aBd6t_8",
        "outputId": "2d718fc4-9025-4520-d265-a6cab6269b0c"
      },
      "execution_count": null,
      "outputs": [
        {
          "output_type": "stream",
          "name": "stdout",
          "text": [
            "[' ', ' hi ', ' hello ', ' Hello ', ' , ', ' you ', ' are ', ' welcome']\n"
          ]
        }
      ]
    },
    {
      "cell_type": "code",
      "source": [
        "d = ' and hi and hello and Hello and , and you and are and welcome'\n",
        "\n",
        "e = d.split('and',4)      # upto 4t and's   --->   only splited\n",
        "print(e)"
      ],
      "metadata": {
        "id": "4l1Lh-LUhkjI",
        "colab": {
          "base_uri": "https://localhost:8080/"
        },
        "outputId": "e02b776f-3000-4646-d2dd-29e9150f66cb"
      },
      "execution_count": null,
      "outputs": [
        {
          "output_type": "stream",
          "name": "stdout",
          "text": [
            "[' ', ' hi ', ' hello ', ' Hello ', ' , and you and are and welcome']\n"
          ]
        }
      ]
    },
    {
      "cell_type": "markdown",
      "source": [
        "***CLASS 11***"
      ],
      "metadata": {
        "id": "HGqqCfY-7GhF"
      }
    },
    {
      "cell_type": "code",
      "source": [
        "# OOPS : Object Oriented programming language\n",
        "# few fundamental concepts\n",
        "# class       ---> like blueprint (of room)\n",
        "# object      --->room\n",
        "# inheritance\n",
        "# polymorphism"
      ],
      "metadata": {
        "id": "oX73-OtA7KPZ"
      },
      "execution_count": null,
      "outputs": []
    },
    {
      "cell_type": "code",
      "source": [
        "class myLaptop():\n",
        "  # attribute -> a variable that can be defined inside a class and are shared by all objects of the class\n",
        "  processor = 'Intel I5'\n",
        "  display = 'Full HD'"
      ],
      "metadata": {
        "id": "FGBn4yMS_py_"
      },
      "execution_count": null,
      "outputs": []
    },
    {
      "cell_type": "code",
      "source": [
        "obj1 = myLaptop()\n",
        "obj2 = myLaptop()\n",
        "obj3 = myLaptop()\n",
        "\n",
        "print(obj1.processor)\n",
        "print(obj2.display)\n",
        "print(obj3.processor)\n",
        "\n",
        "myLaptop.processor='Intel I7'\n",
        "\n",
        "print(obj1.processor)\n",
        "\n",
        "obj2.processor='Intel I9'\n",
        "print('obj2 : ',obj2.processor)\n"
      ],
      "metadata": {
        "colab": {
          "base_uri": "https://localhost:8080/"
        },
        "id": "SQumawivIynR",
        "outputId": "924ab83d-b193-4df0-e5f7-14e7df84bfd4"
      },
      "execution_count": null,
      "outputs": [
        {
          "output_type": "stream",
          "name": "stdout",
          "text": [
            "Intel I7\n",
            "Full HD\n",
            "Intel I7\n",
            "Intel I7\n",
            "obj2 :  Intel I9\n"
          ]
        }
      ]
    },
    {
      "cell_type": "code",
      "source": [
        "class myLaptop():\n",
        "  # attribute -> a variable that can be defined inside a class and are shared by all objects of the class\n",
        "  processor = 'Intel I5'  # these attributes \"value\" remains same for all the respected objects\n",
        "  display = 'Full HD'\n",
        "\n",
        "  # instance attribute (e.g : color) ---> is a variable that belongs to only one objects\n",
        "  # TO create instance attribute , use  the \"syntax\" as shown below\n",
        "  # def __init__(self , <any_attribute(s)>): \n",
        "  def __init__(self,color):\n",
        "    self.color = color      # these attributes \"value\" are different for all the respected objects (values are sent as parameters,while creating objects)\n",
        "\n",
        "  # def a():  # gives error\n",
        "  #   print(\"Hello and welcome all !\")\n",
        "\n",
        "  # method\n",
        "  def a(self):  \n",
        "    print(\"Hello and welcome all !\")\n",
        "\n",
        "  # inheritance\n",
        "class myMobile(myLaptop):         # sub class --> child class ---> inheriting parent class \"myLaptop\"\n",
        "  def __init__(self,color,camera):\n",
        "    self.camera = camera\n",
        "    myLaptop .__init__(self,color)      # to initiate the Parent Class  \n",
        "    "
      ],
      "metadata": {
        "id": "d_qrfBPqJfiJ"
      },
      "execution_count": null,
      "outputs": []
    },
    {
      "cell_type": "code",
      "source": [
        "obj3 = myLaptop('Grey')\n",
        "\n",
        "print(obj3.color)\n",
        "\n",
        "obj3.a()"
      ],
      "metadata": {
        "colab": {
          "base_uri": "https://localhost:8080/"
        },
        "id": "iLubslBxOXoz",
        "outputId": "1d4e0994-9dcf-41f7-9389-68eb1f7b5e53"
      },
      "execution_count": null,
      "outputs": [
        {
          "output_type": "stream",
          "name": "stdout",
          "text": [
            "Grey\n",
            "Hello and welcome all !\n"
          ]
        }
      ]
    },
    {
      "cell_type": "code",
      "source": [
        "object1 = myMobile(\"white\",\"Canon\")\n",
        "print(object1.processor)\n",
        "print(object1.camera)\n",
        "print(object1.color)"
      ],
      "metadata": {
        "id": "yKyTI4_n0xH2",
        "colab": {
          "base_uri": "https://localhost:8080/"
        },
        "outputId": "9ce1ec05-f907-43b0-da16-9a751a3fcf05"
      },
      "execution_count": null,
      "outputs": [
        {
          "output_type": "stream",
          "name": "stdout",
          "text": [
            "Intel I5\n",
            "Canon\n",
            "white\n"
          ]
        }
      ]
    },
    {
      "cell_type": "code",
      "source": [
        "# Encapsulation\n",
        "# ---> i.e. hide the data\n",
        "# ---> bundle the data inside one sngle unit\n",
        "# when u don't want others to access the data\n",
        "\n",
        "# for Encapsulation we use 2 methods \n",
        "# 1. Private\n",
        "# 2. Public   (normal method)\n",
        "\n",
        "# general way\n",
        "class data():\n",
        "  def __init__(a,username,password):      # a = self   ( a or self )\n",
        "    a.username = username\n",
        "    a.password = password\n"
      ],
      "metadata": {
        "id": "f9T8jg9ADMxi"
      },
      "execution_count": null,
      "outputs": []
    },
    {
      "cell_type": "code",
      "source": [
        "obj = data('Admin','pass123')\n",
        "print(obj.username)\n",
        "print(obj.password)"
      ],
      "metadata": {
        "colab": {
          "base_uri": "https://localhost:8080/"
        },
        "id": "bKz7pSRpFoVM",
        "outputId": "5e7f62e9-e2bb-409a-81fa-835f5f69b5a3"
      },
      "execution_count": null,
      "outputs": [
        {
          "output_type": "stream",
          "name": "stdout",
          "text": [
            "Admin\n",
            "pass123\n"
          ]
        }
      ]
    },
    {
      "cell_type": "code",
      "source": [
        "# Encapsulation\n",
        "\n",
        "class data():\n",
        "  def __init__(a,username,password):      # a = self   ( a or self )\n",
        "    a.username = username\n",
        "    a.__password = password         # private method\n",
        "  def access(a):\n",
        "    print(a.__password)             # hiding the data\n"
      ],
      "metadata": {
        "id": "Nr4yB_vIGTfW"
      },
      "execution_count": null,
      "outputs": []
    },
    {
      "cell_type": "code",
      "source": [
        "obj = data('Admin','pass123')\n",
        "print(obj.username)\n",
        "obj.access()"
      ],
      "metadata": {
        "colab": {
          "base_uri": "https://localhost:8080/"
        },
        "id": "Fhhq5wPcGqkc",
        "outputId": "a141b54f-46e0-469a-a17e-942f4af1d1c5"
      },
      "execution_count": null,
      "outputs": [
        {
          "output_type": "stream",
          "name": "stdout",
          "text": [
            "Admin\n",
            "pass123\n"
          ]
        }
      ]
    },
    {
      "cell_type": "code",
      "source": [
        "# Polymorphism ---> many forms\n",
        "\n",
        "class Bird():             # Main Class\n",
        "  def intro(self):\n",
        "    print(\"There are different types of birds\")\n",
        "  def fly(self):\n",
        "    print(\"Most of the birds can't fly\")"
      ],
      "metadata": {
        "id": "uhOKB620G9m5"
      },
      "execution_count": null,
      "outputs": []
    },
    {
      "cell_type": "code",
      "source": [
        "class parrot(Bird):       # Sub Class\n",
        "  def fly(self):\n",
        "    print(\"Parrot can fly\")\n",
        "\n",
        "class penguin(Bird):\n",
        "  def fly(self):\n",
        "    print(\"Penguin can't fly\")    "
      ],
      "metadata": {
        "id": "n27EhgmTNO-S"
      },
      "execution_count": null,
      "outputs": []
    },
    {
      "cell_type": "code",
      "source": [
        "o1 = Bird()\n",
        "o2 = parrot()\n",
        "o3 = penguin()\n",
        "\n",
        "o1.fly()\n",
        "o2.fly()\n",
        "o3.fly()"
      ],
      "metadata": {
        "colab": {
          "base_uri": "https://localhost:8080/"
        },
        "id": "BOHLokhOOiqF",
        "outputId": "45e9dfdd-83d9-4c40-c728-6e42127d0f8e"
      },
      "execution_count": null,
      "outputs": [
        {
          "output_type": "stream",
          "name": "stdout",
          "text": [
            "Penguin can't fly\n",
            "Parrot can fly\n",
            "Penguin can't fly\n"
          ]
        }
      ]
    },
    {
      "cell_type": "markdown",
      "source": [
        "***CLASS 12***"
      ],
      "metadata": {
        "id": "6OeoT5-UQrsx"
      }
    },
    {
      "cell_type": "code",
      "source": [
        "# Python decorators  --->  will allow users to modify or add new functionality to an existing object without modifying the structure\n",
        "#                    --->  used to print data in a better (or other) way\n",
        "def greet():\n",
        "  print('Good evening all')"
      ],
      "metadata": {
        "id": "muYurDTgPv7b"
      },
      "execution_count": null,
      "outputs": []
    },
    {
      "cell_type": "code",
      "source": [
        "greet()\n",
        "\n",
        "greetme = greet()\n",
        "greetme"
      ],
      "metadata": {
        "colab": {
          "base_uri": "https://localhost:8080/"
        },
        "id": "pj9ulSMhB_cX",
        "outputId": "04e86215-327c-4c3d-c3a2-907c75633e22"
      },
      "execution_count": null,
      "outputs": [
        {
          "output_type": "stream",
          "name": "stdout",
          "text": [
            "Good evening all\n",
            "Good evening all\n"
          ]
        }
      ]
    },
    {
      "cell_type": "code",
      "source": [
        "def increment(num1):\n",
        "  return num1+10\n",
        "def decrement(num1):\n",
        "  return num1-10\n"
      ],
      "metadata": {
        "id": "EPTdvhhKCPJn"
      },
      "execution_count": null,
      "outputs": []
    },
    {
      "cell_type": "code",
      "source": [
        "def incdec(func,num1):        # \n",
        "  result = func(num1)\n",
        "  return result\n",
        "incdec(increment,7)  \n",
        "incdec(decrement,7)  "
      ],
      "metadata": {
        "colab": {
          "base_uri": "https://localhost:8080/"
        },
        "id": "CiA9I3qyEhDY",
        "outputId": "21732086-e9fb-449f-a181-2522ebc08ba3"
      },
      "execution_count": null,
      "outputs": [
        {
          "output_type": "execute_result",
          "data": {
            "text/plain": [
              "-3"
            ]
          },
          "metadata": {},
          "execution_count": 8
        }
      ]
    },
    {
      "cell_type": "code",
      "source": [
        "def simple():\n",
        "  print('Hello and welcome all')"
      ],
      "metadata": {
        "id": "cnsZEGeJE_iT"
      },
      "execution_count": null,
      "outputs": []
    },
    {
      "cell_type": "code",
      "source": [
        "def special(func):\n",
        "  def a():\n",
        "    print('Introduction to python decorators')\n",
        "    func()\n",
        "  return a()\n",
        "\n",
        "special(simple)    "
      ],
      "metadata": {
        "colab": {
          "base_uri": "https://localhost:8080/"
        },
        "id": "iARpVRZ3GRkN",
        "outputId": "5c44209c-7a48-4278-ff2a-e7c9309a3b5a"
      },
      "execution_count": null,
      "outputs": [
        {
          "output_type": "stream",
          "name": "stdout",
          "text": [
            "Introduction to python decorators\n",
            "Hello and welcome all\n"
          ]
        }
      ]
    },
    {
      "cell_type": "code",
      "source": [
        "import pygame"
      ],
      "metadata": {
        "colab": {
          "base_uri": "https://localhost:8080/"
        },
        "id": "xIkM0fn-NB8Q",
        "outputId": "d690baed-d58d-4630-829f-294dd18f3d37"
      },
      "execution_count": null,
      "outputs": [
        {
          "output_type": "stream",
          "name": "stdout",
          "text": [
            "pygame 2.3.0 (SDL 2.24.2, Python 3.9.16)\n",
            "Hello from the pygame community. https://www.pygame.org/contribute.html\n"
          ]
        }
      ]
    },
    {
      "cell_type": "code",
      "source": [
        "import pygame     # pygame => framework "
      ],
      "metadata": {
        "id": "BFzf_BjgOle9"
      },
      "execution_count": null,
      "outputs": []
    },
    {
      "cell_type": "code",
      "source": [
        "import pygame \n",
        "pygame.init() \n",
        "\n",
        "window=pygame.display.set_mode((900,700)) \n",
        "pygame.display.set_caption(\"My new game\") \n",
        "\n",
        "icon=pygame.image.load(\"icon.png\") \n",
        "pygame.display.set_icon(icon) \n",
        "\n",
        "spaceship-pygame.image.load(\"icon.png\") \n",
        "spaceship_x=200 \n",
        "spaceship_y=300 \n",
        "\n",
        "def display_spaceship(x,y): \n",
        "\twindow.blit(spaceship, (x,y)) \n",
        "bg=pygame.image.load(\"Background.jpg\") \n",
        "\n",
        "gameon=True \n",
        "while gameon: \n",
        "\twindow.blit (bg, (0,0))\n",
        "\n",
        "\tfor even in pygame.event.get(): \n",
        "\t\tif even.type==pygame.QUIT: \n",
        "\t\t\tgameon=False \n",
        "\n",
        "\tkeys = pygame.key.get_pressed() \n",
        "\tif keys [pygame.K_LEFT]: \n",
        "\t\tspaceship_x-=1 \n",
        "\tif keys [pygame.K_RIGHT]: \n",
        "\t\tspaceship_x+=1 \n",
        "\tif keys [pygame.K_UP]: \n",
        "\t\tspaceship_y+=1 \n",
        "\tif keys [pygame.K_DOWN]: \n",
        "\t\tspaceship_y-=1 \n",
        "\n",
        "\tdisplay_spaceship (spaceship_x, spaceship_y)\n",
        "\tpygame.display.update() \n",
        "\n",
        "pygame.quit()"
      ],
      "metadata": {
        "colab": {
          "base_uri": "https://localhost:8080/",
          "height": 235
        },
        "id": "YzAR1PpWRZSe",
        "outputId": "51840a04-855b-47b7-8424-1e9817807450"
      },
      "execution_count": null,
      "outputs": [
        {
          "output_type": "error",
          "ename": "error",
          "evalue": "ignored",
          "traceback": [
            "\u001b[0;31m---------------------------------------------------------------------------\u001b[0m",
            "\u001b[0;31merror\u001b[0m                                     Traceback (most recent call last)",
            "\u001b[0;32m<ipython-input-17-7975c36448e1>\u001b[0m in \u001b[0;36m<cell line: 4>\u001b[0;34m()\u001b[0m\n\u001b[1;32m      2\u001b[0m \u001b[0mpygame\u001b[0m\u001b[0;34m.\u001b[0m\u001b[0minit\u001b[0m\u001b[0;34m(\u001b[0m\u001b[0;34m)\u001b[0m\u001b[0;34m\u001b[0m\u001b[0;34m\u001b[0m\u001b[0m\n\u001b[1;32m      3\u001b[0m \u001b[0;34m\u001b[0m\u001b[0m\n\u001b[0;32m----> 4\u001b[0;31m \u001b[0mwindow\u001b[0m\u001b[0;34m=\u001b[0m\u001b[0mpygame\u001b[0m\u001b[0;34m.\u001b[0m\u001b[0mdisplay\u001b[0m\u001b[0;34m.\u001b[0m\u001b[0mset_mode\u001b[0m\u001b[0;34m(\u001b[0m\u001b[0;34m(\u001b[0m\u001b[0;36m900\u001b[0m\u001b[0;34m,\u001b[0m\u001b[0;36m700\u001b[0m\u001b[0;34m)\u001b[0m\u001b[0;34m)\u001b[0m\u001b[0;34m\u001b[0m\u001b[0;34m\u001b[0m\u001b[0m\n\u001b[0m\u001b[1;32m      5\u001b[0m \u001b[0mpygame\u001b[0m\u001b[0;34m.\u001b[0m\u001b[0mdisplay\u001b[0m\u001b[0;34m.\u001b[0m\u001b[0mset_caption\u001b[0m\u001b[0;34m(\u001b[0m\u001b[0;34m\"My new game\"\u001b[0m\u001b[0;34m)\u001b[0m\u001b[0;34m\u001b[0m\u001b[0;34m\u001b[0m\u001b[0m\n\u001b[1;32m      6\u001b[0m \u001b[0;34m\u001b[0m\u001b[0m\n",
            "\u001b[0;31merror\u001b[0m: No available video device"
          ]
        }
      ]
    }
  ],
  "metadata": {
    "colab": {
      "provenance": []
    },
    "kernelspec": {
      "display_name": "Python 3",
      "name": "python3"
    },
    "language_info": {
      "name": "python"
    }
  },
  "nbformat": 4,
  "nbformat_minor": 0
}